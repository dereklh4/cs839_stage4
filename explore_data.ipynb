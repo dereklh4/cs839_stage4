{
 "cells": [
  {
   "cell_type": "code",
   "execution_count": 1,
   "metadata": {
    "collapsed": false
   },
   "outputs": [],
   "source": [
    "%matplotlib inline\n",
    "import pandas as pd\n",
    "import matplotlib.pyplot as plt\n",
    "import itertools\n",
    "import collections\n",
    "import numpy as np"
   ]
  },
  {
   "cell_type": "code",
   "execution_count": 2,
   "metadata": {
    "collapsed": false
   },
   "outputs": [
    {
     "name": "stdout",
     "output_type": "stream",
     "text": [
      "5194\n"
     ]
    },
    {
     "data": {
      "text/html": [
       "<div>\n",
       "<style>\n",
       "    .dataframe thead tr:only-child th {\n",
       "        text-align: right;\n",
       "    }\n",
       "\n",
       "    .dataframe thead th {\n",
       "        text-align: left;\n",
       "    }\n",
       "\n",
       "    .dataframe tbody tr th {\n",
       "        vertical-align: top;\n",
       "    }\n",
       "</style>\n",
       "<table border=\"1\" class=\"dataframe\">\n",
       "  <thead>\n",
       "    <tr style=\"text-align: right;\">\n",
       "      <th></th>\n",
       "      <th>Album</th>\n",
       "      <th>Artist</th>\n",
       "      <th>Genre</th>\n",
       "      <th>Label</th>\n",
       "      <th>Producer</th>\n",
       "      <th>Release Date</th>\n",
       "      <th>Meta Score</th>\n",
       "    </tr>\n",
       "  </thead>\n",
       "  <tbody>\n",
       "    <tr>\n",
       "      <th>0</th>\n",
       "      <td>Black and White Rainbows</td>\n",
       "      <td>Bush</td>\n",
       "      <td>['pop rock', 'alternative rock']</td>\n",
       "      <td>['caroline', 'zuma rock records']</td>\n",
       "      <td>['bob rock', 'gavin rossdale']</td>\n",
       "      <td>Mar 10 2017</td>\n",
       "      <td>49.0</td>\n",
       "    </tr>\n",
       "    <tr>\n",
       "      <th>1</th>\n",
       "      <td>Different Creatures</td>\n",
       "      <td>Circa Waves</td>\n",
       "      <td>['pop rock']</td>\n",
       "      <td>['virgin emi']</td>\n",
       "      <td>['alan moulder']</td>\n",
       "      <td>Mar 10 2017</td>\n",
       "      <td>78.0</td>\n",
       "    </tr>\n",
       "    <tr>\n",
       "      <th>2</th>\n",
       "      <td>Elektrac</td>\n",
       "      <td>Shobaleader One</td>\n",
       "      <td>['electronic']</td>\n",
       "      <td>['warp', 'wrap']</td>\n",
       "      <td>['squarepusher']</td>\n",
       "      <td>Mar 10 2017</td>\n",
       "      <td>71.0</td>\n",
       "    </tr>\n",
       "    <tr>\n",
       "      <th>3</th>\n",
       "      <td>Packs</td>\n",
       "      <td>Your Old Droog</td>\n",
       "      <td>['hip hop', 'rap']</td>\n",
       "      <td>['fat beats', 'droog recordings', 'droog']</td>\n",
       "      <td>['e. dan', 'rtnc', 'your old droog', 'nice rec...</td>\n",
       "      <td>Mar 10 2017</td>\n",
       "      <td>81.0</td>\n",
       "    </tr>\n",
       "    <tr>\n",
       "      <th>4</th>\n",
       "      <td>Captain California</td>\n",
       "      <td>Murs</td>\n",
       "      <td>['hip hop', 'rap']</td>\n",
       "      <td>['strange music']</td>\n",
       "      <td>['buttercream bob', 'anthony cruz', 'mr. len',...</td>\n",
       "      <td>Mar 10 2017</td>\n",
       "      <td>82.0</td>\n",
       "    </tr>\n",
       "  </tbody>\n",
       "</table>\n",
       "</div>"
      ],
      "text/plain": [
       "                      Album           Artist  \\\n",
       "0  Black and White Rainbows             Bush   \n",
       "1       Different Creatures      Circa Waves   \n",
       "2                  Elektrac  Shobaleader One   \n",
       "3                     Packs   Your Old Droog   \n",
       "4        Captain California             Murs   \n",
       "\n",
       "                              Genre  \\\n",
       "0  ['pop rock', 'alternative rock']   \n",
       "1                      ['pop rock']   \n",
       "2                    ['electronic']   \n",
       "3                ['hip hop', 'rap']   \n",
       "4                ['hip hop', 'rap']   \n",
       "\n",
       "                                        Label  \\\n",
       "0           ['caroline', 'zuma rock records']   \n",
       "1                              ['virgin emi']   \n",
       "2                            ['warp', 'wrap']   \n",
       "3  ['fat beats', 'droog recordings', 'droog']   \n",
       "4                           ['strange music']   \n",
       "\n",
       "                                            Producer Release Date  Meta Score  \n",
       "0                     ['bob rock', 'gavin rossdale']  Mar 10 2017        49.0  \n",
       "1                                   ['alan moulder']  Mar 10 2017        78.0  \n",
       "2                                   ['squarepusher']  Mar 10 2017        71.0  \n",
       "3  ['e. dan', 'rtnc', 'your old droog', 'nice rec...  Mar 10 2017        81.0  \n",
       "4  ['buttercream bob', 'anthony cruz', 'mr. len',...  Mar 10 2017        82.0  "
      ]
     },
     "execution_count": 2,
     "metadata": {},
     "output_type": "execute_result"
    }
   ],
   "source": [
    "#look at table E\n",
    "E = pd.read_csv(\"E.csv\")\n",
    "print(len(E))\n",
    "E.head()"
   ]
  },
  {
   "cell_type": "code",
   "execution_count": 3,
   "metadata": {
    "collapsed": false
   },
   "outputs": [
    {
     "data": {
      "image/png": "[encoded data removed]",
      "text/plain": [
       "<matplotlib.figure.Figure at 0x10392be10>"
      ]
     },
     "metadata": {},
     "output_type": "display_data"
    }
   ],
   "source": [
    "#plot by month release date\n",
    "months = E[\"Release Date\"].str.split(\" \").apply(lambda x: x[0])\n",
    "months.value_counts().plot(kind=\"bar\")\n",
    "\n",
    "E_months = E.copy()\n",
    "E_months[\"Release Date\"] = months"
   ]
  },
  {
   "cell_type": "code",
   "execution_count": 4,
   "metadata": {
    "collapsed": false
   },
   "outputs": [
    {
     "name": "stdout",
     "output_type": "stream",
     "text": [
      "[['pop rock', 'alternative rock'], ['pop rock'], ['electronic'], ['hip hop', 'rap'], ['hip hop', 'rap'], ['pop rock', 'alternative rock'], ['electronica', 'pop rock'], ['post-punk', 'pop rock'], ['electronic'], ['indie pop', 'pop rock', 'indie rock']]\n",
      "[(('indie rock', 'pop rock'), 97), (('hip hop', 'rap'), 82), (('alternative rock', 'pop rock'), 67), (('pop rock', 'rock'), 63), (('pop', 'pop rock'), 37), (('indie pop', 'pop rock'), 29), (('r&b', 'soul'), 24), (('pop rock', 'punk rock'), 22), (('hard rock', 'pop rock'), 22), (('pop', 'r&b'), 21)]\n"
     ]
    }
   ],
   "source": [
    "#show top genre pairs\n",
    "E_filtered = E[pd.notnull(E['Meta Score'])]\n",
    "genres = E_filtered[\"Genre\"].tolist()\n",
    "\n",
    "def create_pairs(genre_list):\n",
    "    pairs = []\n",
    "    indicies = xrange(len(genre_list))\n",
    "    combos = itertools.combinations(indicies,2)\n",
    "    for i,j in combos:\n",
    "        p = [genre_list[i],genre_list[j]]\n",
    "        p.sort()\n",
    "        pairs.append(tuple(p))\n",
    "    return pairs\n",
    "\n",
    "def strlist_to_list(genre_list):\n",
    "    if type(genre_list) != str:\n",
    "        genre_list = \"\"\n",
    "    for c in [\"[\",\"]\",\"'\"]:\n",
    "        genre_list = genre_list.replace(c,\"\")\n",
    "    genre_list = genre_list.split(\",\")\n",
    "    genre_list = map(lambda x: x.strip(),genre_list)\n",
    "    return genre_list\n",
    "\n",
    "genre_lists = map(strlist_to_list,genres)\n",
    "print(genre_lists[0:10])\n",
    "pairs = []\n",
    "for genre_list in genre_lists:\n",
    "    p = create_pairs(genre_list)\n",
    "    pairs.extend(p)\n",
    "\n",
    "counts = collections.Counter(pairs)\n",
    "print(counts.most_common(10))"
   ]
  },
  {
   "cell_type": "code",
   "execution_count": 5,
   "metadata": {
    "collapsed": false
   },
   "outputs": [
    {
     "name": "stdout",
     "output_type": "stream",
     "text": [
      "One hot mapping: {'folk rock': 0, 'pop punk': 27, 'classical': 13, 'ambient': 39, 'pop': 29, 'na': 40, 'new wave': 14, 'rap': 38, 'heavy metal': 1, 'alternative indie rock': 30, 'blues': 15, 'hard rock': 31, 'progressive rock': 16, 'folk': 17, 'alternative rock': 2, 'garage rock': 18, 'art rock': 42, 'pop rock': 33, 'americana': 28, 'indie rock': 19, 'electronica': 20, 'electronic': 32, 'dream pop': 41, 'r&b': 21, 'post-punk': 3, 'alternative r&b': 43, 'international': 22, 'hip hop': 23, 'experimental rock': 4, 'punk rock': 44, 'jazz': 45, 'indie folk': 5, 'art pop': 6, 'avant-garde': 7, 'post-hardcore': 46, 'metalcore': 37, 'funk': 34, 'country': 36, 'emo': 9, 'punk': 25, 'soul': 35, 'electropop': 8, 'psychedelic rock': 10, 'trap': 11, 'rock': 12, 'indie pop': 24, 'synth-pop': 26, 'experimental': 47}\n"
     ]
    }
   ],
   "source": [
    "#Build regression model based on genre\n",
    "\n",
    "#Make one hot encoding\n",
    "from collections import defaultdict\n",
    "\n",
    "#create genres set\n",
    "genres_dict = defaultdict(int)\n",
    "for l in genre_lists:\n",
    "    for g in l:\n",
    "        if g != \"\":\n",
    "            genres_dict[g] += 1\n",
    "\n",
    "#create mapping of genre to feature\n",
    "genre_mapping = {}\n",
    "i = 0\n",
    "for g,count in genres_dict.items():\n",
    "    if count > 10: #needs to occur at least 10 times for us to consider it\n",
    "        genre_mapping[g] = i\n",
    "        i += 1\n",
    "print \"One hot mapping: \" + str(genre_mapping)\n",
    "\n",
    "#create feature vectors\n",
    "X = []\n",
    "for l in genre_lists:\n",
    "    x = [0 for i in xrange(len(genre_mapping))]\n",
    "    for genre in l:\n",
    "        if genre in genre_mapping:\n",
    "            x[genre_mapping[genre]] = 1\n",
    "    X.append(x)"
   ]
  },
  {
   "cell_type": "code",
   "execution_count": 16,
   "metadata": {
    "collapsed": false
   },
   "outputs": [],
   "source": [
    "labels = E_filtered[\"Meta Score\"].tolist()\n",
    "\n",
    "#get train test split\n",
    "from sklearn.model_selection import train_test_split\n",
    "Xtrain,Xtest,y_train,y_test = train_test_split(X,labels,test_size=.15,random_state=23)"
   ]
  },
  {
   "cell_type": "code",
   "execution_count": 17,
   "metadata": {
    "collapsed": false
   },
   "outputs": [
    {
     "data": {
      "text/plain": [
       "LinearRegression(copy_X=True, fit_intercept=True, n_jobs=1, normalize=False)"
      ]
     },
     "execution_count": 17,
     "metadata": {},
     "output_type": "execute_result"
    }
   ],
   "source": [
    "from sklearn.ensemble import RandomForestClassifier\n",
    "from sklearn.linear_model import LinearRegression\n",
    "import sklearn.metrics\n",
    "clf = LinearRegression()\n",
    "clf.fit(Xtrain,y_train)"
   ]
  },
  {
   "cell_type": "code",
   "execution_count": 18,
   "metadata": {
    "collapsed": false
   },
   "outputs": [
    {
     "name": "stdout",
     "output_type": "stream",
     "text": [
      "Train ME: 5.5655695522\n",
      "Test ME: 5.91740747357\n"
     ]
    },
    {
     "data": {
      "text/plain": [
       "(array([   2.,    3.,   23.,  108.,  155.,  100.,   36.,   17.,    4.,    3.]),\n",
       " array([-27.95786046, -21.9367011 , -15.91554173,  -9.89438237,\n",
       "         -3.87322301,   2.14793636,   8.16909572,  14.19025508,\n",
       "         20.21141444,  26.23257381,  32.25373317]),\n",
       " <a list of 10 Patch objects>)"
      ]
     },
     "execution_count": 18,
     "metadata": {},
     "output_type": "execute_result"
    },
    {
     "data": {
      "image/png": "[encoded data removed]",
      "text/plain": [
       "<matplotlib.figure.Figure at 0x1155a8f10>"
      ]
     },
     "metadata": {},
     "output_type": "display_data"
    }
   ],
   "source": [
    "train_predictions = clf.predict(Xtrain)\n",
    "test_predictions = clf.predict(Xtest)\n",
    "train_mse = sklearn.metrics.mean_absolute_error(y_train,train_predictions)\n",
    "test_mse = sklearn.metrics.mean_absolute_error(y_test,test_predictions)\n",
    "print(\"Train ME: \" + str(train_mse))\n",
    "print(\"Test ME: \" + str(test_mse))\n",
    "plt.hist(test_predictions-y_test)"
   ]
  },
  {
   "cell_type": "code",
   "execution_count": 19,
   "metadata": {
    "collapsed": false
   },
   "outputs": [
    {
     "name": "stdout",
     "output_type": "stream",
     "text": [
      "\n",
      "--Top--\n",
      "metalcore : 6.80292292147\n",
      "art rock : 6.14239638149\n",
      "punk : 5.86100602231\n",
      "ambient : 5.55386144934\n",
      "post-punk : 5.17134451759\n",
      "folk rock : 5.12175950631\n",
      "art pop : 4.21428800144\n",
      "avant-garde : 4.16146017938\n",
      "emo : 3.93981232538\n",
      "americana : 3.70005875919\n",
      "\n",
      "--Bottom--\n",
      "pop : -5.60978432047\n",
      "alternative rock : -5.60378433392\n",
      "indie pop : -4.28203942885\n",
      "hard rock : -3.2115936284\n",
      "synth-pop : -3.14169452885\n",
      "hip hop : -2.6261254664\n",
      "na : -2.16705587243\n",
      "rock : -2.15675389875\n",
      "soul : -1.79356802289\n",
      "progressive rock : -1.58146810761\n"
     ]
    }
   ],
   "source": [
    "#look at weights on each genre\n",
    "#clf.feature_importances_\n",
    "weights = [(i,clf.coef_[i]) for i in xrange(len(clf.coef_))] #save index and weight\n",
    "\n",
    "weights.sort(key=lambda x: x[1],reverse=True)\n",
    "\n",
    "#top 10\n",
    "top = weights[0:10]\n",
    "print(\"\\n--Top--\")\n",
    "for i,w in top:\n",
    "    for g,index in genre_mapping.items():\n",
    "        if i == index:\n",
    "            print(g + \" : \" + str(w))\n",
    "\n",
    "#bottom 10\n",
    "print(\"\\n--Bottom--\")\n",
    "bottom = weights[-10:]\n",
    "bottom.reverse()\n",
    "for i,w in bottom:\n",
    "    for g,index in genre_mapping.items():\n",
    "        if i == index:\n",
    "            print(g + \" : \" + str(w))\n"
   ]
  }
 ],
 "metadata": {
  "anaconda-cloud": {},
  "kernelspec": {
   "display_name": "Python [Root]",
   "language": "python",
   "name": "Python [Root]"
  },
  "language_info": {
   "codemirror_mode": {
    "name": "ipython",
    "version": 2
   },
   "file_extension": ".py",
   "mimetype": "text/x-python",
   "name": "python",
   "nbconvert_exporter": "python",
   "pygments_lexer": "ipython2",
   "version": "2.7.11"
  }
 },
 "nbformat": 4,
 "nbformat_minor": 0
}
