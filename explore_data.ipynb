{
 "cells": [
  {
   "cell_type": "code",
   "execution_count": 1,
   "metadata": {
    "collapsed": false
   },
   "outputs": [],
   "source": [
    "%matplotlib inline\n",
    "import pandas as pd\n",
    "import matplotlib.pyplot as plt\n",
    "import itertools\n",
    "import collections\n",
    "import numpy as np"
   ]
  },
  {
   "cell_type": "code",
   "execution_count": 2,
   "metadata": {
    "collapsed": false
   },
   "outputs": [
    {
     "name": "stdout",
     "output_type": "stream",
     "text": [
      "5194\n"
     ]
    },
    {
     "data": {
      "text/html": [
       "<div>\n",
       "<style>\n",
       "    .dataframe thead tr:only-child th {\n",
       "        text-align: right;\n",
       "    }\n",
       "\n",
       "    .dataframe thead th {\n",
       "        text-align: left;\n",
       "    }\n",
       "\n",
       "    .dataframe tbody tr th {\n",
       "        vertical-align: top;\n",
       "    }\n",
       "</style>\n",
       "<table border=\"1\" class=\"dataframe\">\n",
       "  <thead>\n",
       "    <tr style=\"text-align: right;\">\n",
       "      <th></th>\n",
       "      <th>Album</th>\n",
       "      <th>Artist</th>\n",
       "      <th>Genre</th>\n",
       "      <th>Label</th>\n",
       "      <th>Producer</th>\n",
       "      <th>Release Date</th>\n",
       "      <th>Meta Score</th>\n",
       "    </tr>\n",
       "  </thead>\n",
       "  <tbody>\n",
       "    <tr>\n",
       "      <th>0</th>\n",
       "      <td>Black and White Rainbows</td>\n",
       "      <td>Bush</td>\n",
       "      <td>['pop rock', 'alternative rock']</td>\n",
       "      <td>['zuma rock records', 'caroline']</td>\n",
       "      <td>['bob rock', 'gavin rossdale']</td>\n",
       "      <td>Mar 10 2017</td>\n",
       "      <td>49.0</td>\n",
       "    </tr>\n",
       "    <tr>\n",
       "      <th>1</th>\n",
       "      <td>Different Creatures</td>\n",
       "      <td>Circa Waves</td>\n",
       "      <td>['pop rock']</td>\n",
       "      <td>['virgin emi']</td>\n",
       "      <td>['alan moulder']</td>\n",
       "      <td>Mar 10 2017</td>\n",
       "      <td>78.0</td>\n",
       "    </tr>\n",
       "    <tr>\n",
       "      <th>2</th>\n",
       "      <td>Elektrac</td>\n",
       "      <td>Shobaleader One</td>\n",
       "      <td>['electronic']</td>\n",
       "      <td>['warp', 'wrap']</td>\n",
       "      <td>['squarepusher']</td>\n",
       "      <td>Mar 10 2017</td>\n",
       "      <td>71.0</td>\n",
       "    </tr>\n",
       "    <tr>\n",
       "      <th>3</th>\n",
       "      <td>Packs</td>\n",
       "      <td>Your Old Droog</td>\n",
       "      <td>['hip hop', 'rap']</td>\n",
       "      <td>['droog', 'droog recordings', 'fat beats']</td>\n",
       "      <td>['edan', '88 keys', 'alchemist', 'the purist',...</td>\n",
       "      <td>Mar 10 2017</td>\n",
       "      <td>81.0</td>\n",
       "    </tr>\n",
       "    <tr>\n",
       "      <th>4</th>\n",
       "      <td>Captain California</td>\n",
       "      <td>Murs</td>\n",
       "      <td>['hip hop', 'rap']</td>\n",
       "      <td>['strange music']</td>\n",
       "      <td>['wax roof', 'seven', 'dj rek', 'dj fresh', 'a...</td>\n",
       "      <td>Mar 10 2017</td>\n",
       "      <td>82.0</td>\n",
       "    </tr>\n",
       "  </tbody>\n",
       "</table>\n",
       "</div>"
      ],
      "text/plain": [
       "                      Album           Artist  \\\n",
       "0  Black and White Rainbows             Bush   \n",
       "1       Different Creatures      Circa Waves   \n",
       "2                  Elektrac  Shobaleader One   \n",
       "3                     Packs   Your Old Droog   \n",
       "4        Captain California             Murs   \n",
       "\n",
       "                              Genre  \\\n",
       "0  ['pop rock', 'alternative rock']   \n",
       "1                      ['pop rock']   \n",
       "2                    ['electronic']   \n",
       "3                ['hip hop', 'rap']   \n",
       "4                ['hip hop', 'rap']   \n",
       "\n",
       "                                        Label  \\\n",
       "0           ['zuma rock records', 'caroline']   \n",
       "1                              ['virgin emi']   \n",
       "2                            ['warp', 'wrap']   \n",
       "3  ['droog', 'droog recordings', 'fat beats']   \n",
       "4                           ['strange music']   \n",
       "\n",
       "                                            Producer Release Date  Meta Score  \n",
       "0                     ['bob rock', 'gavin rossdale']  Mar 10 2017        49.0  \n",
       "1                                   ['alan moulder']  Mar 10 2017        78.0  \n",
       "2                                   ['squarepusher']  Mar 10 2017        71.0  \n",
       "3  ['edan', '88 keys', 'alchemist', 'the purist',...  Mar 10 2017        81.0  \n",
       "4  ['wax roof', 'seven', 'dj rek', 'dj fresh', 'a...  Mar 10 2017        82.0  "
      ]
     },
     "execution_count": 2,
     "metadata": {},
     "output_type": "execute_result"
    }
   ],
   "source": [
    "#look at table E\n",
    "E = pd.read_csv(\"E.csv\")\n",
    "print(len(E))\n",
    "E.head()"
   ]
  },
  {
   "cell_type": "code",
   "execution_count": 3,
   "metadata": {
    "collapsed": false
   },
   "outputs": [
    {
     "data": {
      "image/png": "[encoded data removed]",
      "text/plain": [
       "<matplotlib.figure.Figure at 0x10ca3d750>"
      ]
     },
     "metadata": {},
     "output_type": "display_data"
    }
   ],
   "source": [
    "#plot by month release date\n",
    "months = E[\"Release Date\"].str.split(\" \").apply(lambda x: x[0])\n",
    "months.value_counts().plot(kind=\"bar\")\n",
    "\n",
    "E_months = E.copy()\n",
    "E_months[\"Release Date\"] = months"
   ]
  },
  {
   "cell_type": "code",
   "execution_count": 4,
   "metadata": {
    "collapsed": false
   },
   "outputs": [
    {
     "name": "stdout",
     "output_type": "stream",
     "text": [
      "[['pop rock', 'alternative rock'], ['pop rock'], ['electronic'], ['hip hop', 'rap'], ['hip hop', 'rap'], ['pop rock', 'alternative rock'], ['pop rock', 'electronica'], ['pop rock', 'post punk'], ['electronic'], ['pop rock', 'indie pop', 'indie rock']]\n",
      "[(('indie rock', 'pop rock'), 97), (('hip hop', 'rap'), 82), (('alternative rock', 'pop rock'), 67), (('pop rock', 'rock'), 63), (('pop', 'pop rock'), 37), (('indie pop', 'pop rock'), 29), (('r&b', 'soul'), 24), (('pop rock', 'punk rock'), 22), (('hard rock', 'pop rock'), 22), (('pop', 'r&b'), 21)]\n"
     ]
    }
   ],
   "source": [
    "#show top genre pairs\n",
    "E_filtered = E[pd.notnull(E['Meta Score'])]\n",
    "genres = E_filtered[\"Genre\"].tolist()\n",
    "\n",
    "def create_pairs(genre_list):\n",
    "    pairs = []\n",
    "    indicies = xrange(len(genre_list))\n",
    "    combos = itertools.combinations(indicies,2)\n",
    "    for i,j in combos:\n",
    "        p = [genre_list[i],genre_list[j]]\n",
    "        p.sort()\n",
    "        pairs.append(tuple(p))\n",
    "    return pairs\n",
    "\n",
    "def strlist_to_list(genre_list):\n",
    "    if type(genre_list) != str:\n",
    "        genre_list = \"\"\n",
    "    for c in [\"[\",\"]\",\"'\"]:\n",
    "        genre_list = genre_list.replace(c,\"\")\n",
    "    genre_list = genre_list.split(\",\")\n",
    "    genre_list = map(lambda x: x.strip(),genre_list)\n",
    "    return genre_list\n",
    "\n",
    "genre_lists = map(strlist_to_list,genres)\n",
    "print(genre_lists[0:10])\n",
    "pairs = []\n",
    "for genre_list in genre_lists:\n",
    "    p = create_pairs(genre_list)\n",
    "    pairs.extend(p)\n",
    "\n",
    "counts = collections.Counter(pairs)\n",
    "print(counts.most_common(10))"
   ]
  },
  {
   "cell_type": "code",
   "execution_count": 17,
   "metadata": {
    "collapsed": false
   },
   "outputs": [
    {
     "name": "stdout",
     "output_type": "stream",
     "text": [
      "One hot mapping: {'folk rock': 0, 'dance': 1, 'post punk': 2, 'edm': 24, 'power pop': 4, 'post rock': 5, 'progressive metal': 6, 'heavy metal': 7, 'melodic death metal': 104, 'alternative': 41, 'alternative rock': 9, 'dance rock': 11, 'experimental pop': 19, 'glam rock': 13, 'stoner rock': 14, 'heartland rock': 15, 'experimental hip hop': 10, 'holiday': 17, 'experimental rock': 18, 'west coast hip hop': 20, 'psychedelic pop': 21, 'indie folk': 22, 'art pop': 23, 'country rock': 25, 'emo': 26, 'noise pop': 27, 'psychedelic rock': 28, 'hip hop': 50, 'soundtracks': 30, 'gangsta rap': 53, 'post grunge': 37, 'gospel': 32, 'classical': 78, 'house': 33, 'alternative country': 34, 'new wave': 35, 'neo psychedelia': 38, 'blues': 39, 'alt country': 40, 'folk': 42, 'garage rock': 43, 'alternative pop': 84, 'indie rock': 44, 'electronica': 45, 'electronic rock': 46, 'r&b': 47, 'alternative hip hop': 16, 'international': 48, 'christmas': 49, 'trap': 29, 'shoegazing': 51, 'latin': 36, 'groove metal': 52, 'pop punk': 65, 'rock': 31, 'techno': 54, 'metalcore': 94, 'krautrock': 57, 'punk': 58, 'rock and roll': 59, 'slowcore': 60, 'hardcore punk': 61, 'post metal': 62, 'pbr&b': 63, 'experimental': 126, 'electronic music': 64, 'baroque pop': 12, 'trip hop': 66, 'americana': 67, 'pop': 68, 'post hardcore': 69, 'thrash metal': 70, 'neo soul': 71, 'alternative indie rock': 72, 'hard rock': 73, 'electronic': 74, 'noise rock': 75, 'adult contemporary': 76, 'pop rock': 77, 'dub': 79, 'grime': 80, 'roots rock': 81, 'indie electronic': 82, 'grunge': 102, 'soft rock': 85, 'industrial rock': 86, 'funk': 87, 'country pop': 88, 'g funk': 89, 'death metal': 90, 'soul': 91, 'vocal': 92, 'country': 93, 'indie pop': 55, 'avant garde': 95, 'funk rock': 96, 'rap': 100, 'indie': 98, 'bluegrass': 83, 'post punk revival': 99, 'stage & screen': 97, 'ambient': 101, 'singer songwriter': 103, 'alternative dance': 105, 'britpop': 106, 'blues rock': 107, 'progressive rock': 108, 'southern rock': 109, 'acid rock': 110, 'electro house': 3, 'synthpop': 8, 'new age': 112, 'art rock': 113, 'alternative r&b': 114, 'electro': 115, 'reggae': 116, 'punk rock': 117, 'jazz': 118, 'dream pop': 111, 'alternative pop rock': 119, 'soundtrack': 56, 'electropop': 120, 'alternative metal': 122, 'metal': 123, 'country blues': 124, 'synth pop': 125, 'na': 127, 'dance pop': 128, 'gothic rock': 121}\n"
     ]
    }
   ],
   "source": [
    "#Build regression model based on genre\n",
    "\n",
    "#Make one hot encoding\n",
    "from collections import defaultdict\n",
    "\n",
    "#create genres set\n",
    "genres_dict = defaultdict(int)\n",
    "for l in genre_lists:\n",
    "    for g in l:\n",
    "        if g != \"\":\n",
    "            genres_dict[g] += 1\n",
    "\n",
    "#create mapping of genre to feature\n",
    "genre_mapping = {}\n",
    "i = 0\n",
    "for g,count in genres_dict.items():\n",
    "    if count > 2: #needs to occur at least 2 times for us to consider it\n",
    "        genre_mapping[g] = i\n",
    "        i += 1\n",
    "print \"One hot mapping: \" + str(genre_mapping)\n",
    "\n",
    "#create feature vectors\n",
    "X = []\n",
    "for l in genre_lists:\n",
    "    x = [0 for i in xrange(len(genre_mapping))]\n",
    "    for genre in l:\n",
    "        if genre in genre_mapping:\n",
    "            x[genre_mapping[genre]] = 1\n",
    "    X.append(x)"
   ]
  },
  {
   "cell_type": "code",
   "execution_count": 18,
   "metadata": {
    "collapsed": false
   },
   "outputs": [],
   "source": [
    "labels = E_filtered[\"Meta Score\"].tolist()\n",
    "\n",
    "#get train test split\n",
    "from sklearn.model_selection import train_test_split\n",
    "Xtrain,Xtest,y_train,y_test = train_test_split(X,labels,test_size=.15,random_state=6)"
   ]
  },
  {
   "cell_type": "code",
   "execution_count": 19,
   "metadata": {
    "collapsed": false
   },
   "outputs": [
    {
     "data": {
      "text/plain": [
       "LinearRegression(copy_X=True, fit_intercept=True, n_jobs=1, normalize=False)"
      ]
     },
     "execution_count": 19,
     "metadata": {},
     "output_type": "execute_result"
    }
   ],
   "source": [
    "from sklearn.ensemble import RandomForestClassifier\n",
    "from sklearn.linear_model import LinearRegression\n",
    "import sklearn.metrics\n",
    "clf = LinearRegression()\n",
    "clf.fit(Xtrain,y_train)"
   ]
  },
  {
   "cell_type": "code",
   "execution_count": 20,
   "metadata": {
    "collapsed": false
   },
   "outputs": [
    {
     "name": "stdout",
     "output_type": "stream",
     "text": [
      "Train ME: 5.38845095878\n",
      "Test ME: 6.24549758887\n"
     ]
    },
    {
     "data": {
      "text/plain": [
       "(array([   3.,    3.,   29.,  140.,  134.,   86.,   38.,   12.,    5.,    1.]),\n",
       " array([-27.97742753, -21.77978951, -15.58215149,  -9.38451347,\n",
       "         -3.18687545,   3.01076258,   9.2084006 ,  15.40603862,\n",
       "         21.60367664,  27.80131466,  33.99895268]),\n",
       " <a list of 10 Patch objects>)"
      ]
     },
     "execution_count": 20,
     "metadata": {},
     "output_type": "execute_result"
    },
    {
     "data": {
      "image/png": "[encoded data removed]",
      "text/plain": [
       "<matplotlib.figure.Figure at 0x114383c50>"
      ]
     },
     "metadata": {},
     "output_type": "display_data"
    }
   ],
   "source": [
    "train_predictions = clf.predict(Xtrain)\n",
    "test_predictions = clf.predict(Xtest)\n",
    "train_mse = sklearn.metrics.mean_absolute_error(y_train,train_predictions)\n",
    "test_mse = sklearn.metrics.mean_absolute_error(y_test,test_predictions)\n",
    "print(\"Train ME: \" + str(train_mse))\n",
    "print(\"Test ME: \" + str(test_mse))\n",
    "plt.hist(test_predictions-y_test)"
   ]
  },
  {
   "cell_type": "code",
   "execution_count": 21,
   "metadata": {
    "collapsed": false
   },
   "outputs": [
    {
     "name": "stdout",
     "output_type": "stream",
     "text": [
      "\n",
      "--Top--\n",
      "gangsta rap : 14.4789781973\n",
      "stage & screen : 12.6327068464\n",
      "post metal : 7.90517890021\n",
      "grunge : 7.31631282148\n",
      "punk : 7.22544115123\n",
      "noise rock : 7.05529983429\n",
      "grime : 6.91124408385\n",
      "metalcore : 6.4695511526\n",
      "alternative : 5.76710728317\n",
      "glam rock : 5.75332299112\n",
      "post grunge : 5.69957358602\n",
      "ambient : 5.31580434716\n",
      "alternative country : 5.18713668304\n",
      "slowcore : 5.18509556086\n",
      "baroque pop : 4.5422672715\n",
      "techno : 4.51984168268\n",
      "roots rock : 4.48750756958\n",
      "singer songwriter : 4.33970880721\n",
      "gospel : 4.2448018431\n",
      "metal : 4.07703649033\n",
      "death metal : 3.71504387416\n",
      "folk rock : 3.70336558561\n",
      "art pop : 3.65097592237\n",
      "electropop : 3.47546374101\n",
      "post rock : 3.40834650724\n",
      "\n",
      "--Bottom--\n",
      "electronic music : -17.2391208646\n",
      "holiday : -13.3974376095\n",
      "g funk : -7.47897819729\n",
      "electro house : -7.14643262659\n",
      "west coast hip hop : -7.06404243774\n",
      "stoner rock : -6.72264382126\n",
      "indie : -6.71967945475\n",
      "dance pop : -5.90706533577\n",
      "country pop : -5.64765596139\n",
      "house : -5.48470438316\n",
      "britpop : -5.0586541596\n",
      "pop : -4.97713063256\n",
      "melodic death metal : -4.9571263765\n",
      "adult contemporary : -4.76923665595\n",
      "funk rock : -4.32054412513\n",
      "groove metal : -4.30808824596\n",
      "noise pop : -4.28220045173\n",
      "indie electronic : -4.06773199612\n",
      "na : -4.0116886308\n",
      "alternative rock : -3.94901372574\n",
      "thrash metal : -3.91086213626\n",
      "alternative dance : -3.41611692823\n",
      "country blues : -3.40012083022\n",
      "latin : -3.36729315361\n",
      "hard rock : -3.34472068586\n"
     ]
    }
   ],
   "source": [
    "#look at weights on each genre\n",
    "#clf.feature_importances_\n",
    "weights = [(i,clf.coef_[i]) for i in xrange(len(clf.coef_))] #save index and weight\n",
    "\n",
    "weights.sort(key=lambda x: x[1],reverse=True)\n",
    "\n",
    "#top 25\n",
    "top = weights[0:25]\n",
    "print(\"\\n--Top--\")\n",
    "for i,w in top:\n",
    "    for g,index in genre_mapping.items():\n",
    "        if i == index:\n",
    "            print(g + \" : \" + str(w))\n",
    "\n",
    "#bottom 25\n",
    "print(\"\\n--Bottom--\")\n",
    "bottom = weights[-25:]\n",
    "bottom.reverse()\n",
    "for i,w in bottom:\n",
    "    for g,index in genre_mapping.items():\n",
    "        if i == index:\n",
    "            print(g + \" : \" + str(w))\n"
   ]
  },
  {
   "cell_type": "code",
   "execution_count": 26,
   "metadata": {
    "collapsed": false
   },
   "outputs": [
    {
     "data": {
      "text/plain": [
       "(66, -1.6388800254366254)"
      ]
     },
     "execution_count": 26,
     "metadata": {},
     "output_type": "execute_result"
    }
   ],
   "source": [
    "weights[genre_mapping[\"g funk\"]]"
   ]
  },
  {
   "cell_type": "code",
   "execution_count": 27,
   "metadata": {
    "collapsed": false
   },
   "outputs": [
    {
     "data": {
      "text/plain": [
       "(93, 1.5687803904740405)"
      ]
     },
     "execution_count": 27,
     "metadata": {},
     "output_type": "execute_result"
    }
   ],
   "source": [
    "weights[genre_mapping[\"christmas\"]]"
   ]
  }
 ],
 "metadata": {
  "anaconda-cloud": {},
  "kernelspec": {
   "display_name": "Python [Root]",
   "language": "python",
   "name": "Python [Root]"
  },
  "language_info": {
   "codemirror_mode": {
    "name": "ipython",
    "version": 2
   },
   "file_extension": ".py",
   "mimetype": "text/x-python",
   "name": "python",
   "nbconvert_exporter": "python",
   "pygments_lexer": "ipython2",
   "version": "2.7.11"
  }
 },
 "nbformat": 4,
 "nbformat_minor": 0
}
