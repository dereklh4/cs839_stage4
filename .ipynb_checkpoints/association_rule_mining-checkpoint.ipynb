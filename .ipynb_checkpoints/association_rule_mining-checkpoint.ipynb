{
 "cells": [
  {
   "cell_type": "code",
   "execution_count": 1,
   "metadata": {
    "collapsed": true
   },
   "outputs": [],
   "source": [
    "import pandas as pd\n",
    "import numpy as np\n",
    "import sys\n",
    "from itertools import combinations, groupby\n",
    "from collections import Counter\n",
    "from IPython.display import display"
   ]
  },
  {
   "cell_type": "code",
   "execution_count": 2,
   "metadata": {},
   "outputs": [
    {
     "data": {
      "text/html": [
       "<div>\n",
       "<style scoped>\n",
       "    .dataframe tbody tr th:only-of-type {\n",
       "        vertical-align: middle;\n",
       "    }\n",
       "\n",
       "    .dataframe tbody tr th {\n",
       "        vertical-align: top;\n",
       "    }\n",
       "\n",
       "    .dataframe thead th {\n",
       "        text-align: right;\n",
       "    }\n",
       "</style>\n",
       "<table border=\"1\" class=\"dataframe\">\n",
       "  <thead>\n",
       "    <tr style=\"text-align: right;\">\n",
       "      <th></th>\n",
       "      <th>Album</th>\n",
       "      <th>Artist</th>\n",
       "      <th>Genre</th>\n",
       "      <th>Label</th>\n",
       "      <th>Producer</th>\n",
       "      <th>Release Date</th>\n",
       "      <th>Meta Score</th>\n",
       "    </tr>\n",
       "  </thead>\n",
       "  <tbody>\n",
       "    <tr>\n",
       "      <th>0</th>\n",
       "      <td>Black and White Rainbows</td>\n",
       "      <td>Bush</td>\n",
       "      <td>['pop rock', 'alternative rock']</td>\n",
       "      <td>['caroline', 'zuma rock records']</td>\n",
       "      <td>['bob rock', 'gavin rossdale']</td>\n",
       "      <td>Mar 10 2017</td>\n",
       "      <td>49.0</td>\n",
       "    </tr>\n",
       "    <tr>\n",
       "      <th>1</th>\n",
       "      <td>Different Creatures</td>\n",
       "      <td>Circa Waves</td>\n",
       "      <td>['pop rock']</td>\n",
       "      <td>['virgin emi']</td>\n",
       "      <td>['alan moulder']</td>\n",
       "      <td>Mar 10 2017</td>\n",
       "      <td>78.0</td>\n",
       "    </tr>\n",
       "    <tr>\n",
       "      <th>2</th>\n",
       "      <td>Elektrac</td>\n",
       "      <td>Shobaleader One</td>\n",
       "      <td>['electronic']</td>\n",
       "      <td>['warp', 'wrap']</td>\n",
       "      <td>['squarepusher']</td>\n",
       "      <td>Mar 10 2017</td>\n",
       "      <td>71.0</td>\n",
       "    </tr>\n",
       "    <tr>\n",
       "      <th>3</th>\n",
       "      <td>Packs</td>\n",
       "      <td>Your Old Droog</td>\n",
       "      <td>['hip hop', 'rap']</td>\n",
       "      <td>['fat beats', 'droog recordings', 'droog']</td>\n",
       "      <td>['e. dan', 'rtnc', 'your old droog', 'nice rec...</td>\n",
       "      <td>Mar 10 2017</td>\n",
       "      <td>81.0</td>\n",
       "    </tr>\n",
       "    <tr>\n",
       "      <th>4</th>\n",
       "      <td>Captain California</td>\n",
       "      <td>Murs</td>\n",
       "      <td>['hip hop', 'rap']</td>\n",
       "      <td>['strange music']</td>\n",
       "      <td>['buttercream bob', 'anthony cruz', 'mr. len',...</td>\n",
       "      <td>Mar 10 2017</td>\n",
       "      <td>82.0</td>\n",
       "    </tr>\n",
       "  </tbody>\n",
       "</table>\n",
       "</div>"
      ],
      "text/plain": [
       "                      Album           Artist  \\\n",
       "0  Black and White Rainbows             Bush   \n",
       "1       Different Creatures      Circa Waves   \n",
       "2                  Elektrac  Shobaleader One   \n",
       "3                     Packs   Your Old Droog   \n",
       "4        Captain California             Murs   \n",
       "\n",
       "                              Genre  \\\n",
       "0  ['pop rock', 'alternative rock']   \n",
       "1                      ['pop rock']   \n",
       "2                    ['electronic']   \n",
       "3                ['hip hop', 'rap']   \n",
       "4                ['hip hop', 'rap']   \n",
       "\n",
       "                                        Label  \\\n",
       "0           ['caroline', 'zuma rock records']   \n",
       "1                              ['virgin emi']   \n",
       "2                            ['warp', 'wrap']   \n",
       "3  ['fat beats', 'droog recordings', 'droog']   \n",
       "4                           ['strange music']   \n",
       "\n",
       "                                            Producer Release Date  Meta Score  \n",
       "0                     ['bob rock', 'gavin rossdale']  Mar 10 2017        49.0  \n",
       "1                                   ['alan moulder']  Mar 10 2017        78.0  \n",
       "2                                   ['squarepusher']  Mar 10 2017        71.0  \n",
       "3  ['e. dan', 'rtnc', 'your old droog', 'nice rec...  Mar 10 2017        81.0  \n",
       "4  ['buttercream bob', 'anthony cruz', 'mr. len',...  Mar 10 2017        82.0  "
      ]
     },
     "execution_count": 2,
     "metadata": {},
     "output_type": "execute_result"
    }
   ],
   "source": [
    "# Load table E\n",
    "E = pd.read_csv(\"E.csv\")\n",
    "E.head()\n"
   ]
  },
  {
   "cell_type": "code",
   "execution_count": 20,
   "metadata": {},
   "outputs": [
    {
     "data": {
      "text/plain": [
       "\"'pop rock', 'alternative rock'\""
      ]
     },
     "execution_count": 20,
     "metadata": {},
     "output_type": "execute_result"
    }
   ],
   "source": [
    "genre = E.loc[0,'Genre']\n",
    "genre[genre.find(\"[\")+1:genre.find(\"]\")].lstrip().strip(\",\")"
   ]
  },
  {
   "cell_type": "code",
   "execution_count": null,
   "metadata": {
    "collapsed": true
   },
   "outputs": [],
   "source": []
  },
  {
   "cell_type": "code",
   "execution_count": null,
   "metadata": {
    "collapsed": true
   },
   "outputs": [],
   "source": []
  },
  {
   "cell_type": "code",
   "execution_count": null,
   "metadata": {
    "collapsed": true
   },
   "outputs": [],
   "source": []
  },
  {
   "cell_type": "code",
   "execution_count": null,
   "metadata": {
    "collapsed": true
   },
   "outputs": [],
   "source": []
  },
  {
   "cell_type": "code",
   "execution_count": null,
   "metadata": {
    "collapsed": true
   },
   "outputs": [],
   "source": []
  },
  {
   "cell_type": "code",
   "execution_count": null,
   "metadata": {
    "collapsed": true
   },
   "outputs": [],
   "source": []
  },
  {
   "cell_type": "code",
   "execution_count": null,
   "metadata": {
    "collapsed": true
   },
   "outputs": [],
   "source": []
  },
  {
   "cell_type": "code",
   "execution_count": null,
   "metadata": {
    "collapsed": true
   },
   "outputs": [],
   "source": []
  },
  {
   "cell_type": "code",
   "execution_count": null,
   "metadata": {
    "collapsed": true
   },
   "outputs": [],
   "source": []
  },
  {
   "cell_type": "code",
   "execution_count": null,
   "metadata": {
    "collapsed": true
   },
   "outputs": [],
   "source": []
  },
  {
   "cell_type": "code",
   "execution_count": null,
   "metadata": {
    "collapsed": true
   },
   "outputs": [],
   "source": []
  },
  {
   "cell_type": "code",
   "execution_count": null,
   "metadata": {
    "collapsed": true
   },
   "outputs": [],
   "source": []
  },
  {
   "cell_type": "code",
   "execution_count": null,
   "metadata": {
    "collapsed": true
   },
   "outputs": [],
   "source": []
  },
  {
   "cell_type": "code",
   "execution_count": null,
   "metadata": {
    "collapsed": true
   },
   "outputs": [],
   "source": []
  },
  {
   "cell_type": "code",
   "execution_count": null,
   "metadata": {
    "collapsed": true
   },
   "outputs": [],
   "source": []
  },
  {
   "cell_type": "code",
   "execution_count": null,
   "metadata": {
    "collapsed": true
   },
   "outputs": [],
   "source": []
  },
  {
   "cell_type": "code",
   "execution_count": null,
   "metadata": {
    "collapsed": true
   },
   "outputs": [],
   "source": []
  },
  {
   "cell_type": "code",
   "execution_count": null,
   "metadata": {
    "collapsed": true
   },
   "outputs": [],
   "source": []
  },
  {
   "cell_type": "code",
   "execution_count": null,
   "metadata": {
    "collapsed": true
   },
   "outputs": [],
   "source": []
  },
  {
   "cell_type": "code",
   "execution_count": null,
   "metadata": {
    "collapsed": true
   },
   "outputs": [],
   "source": []
  }
 ],
 "metadata": {
  "kernelspec": {
   "display_name": "Python 3",
   "language": "python",
   "name": "python3"
  },
  "language_info": {
   "codemirror_mode": {
    "name": "ipython",
    "version": 3
   },
   "file_extension": ".py",
   "mimetype": "text/x-python",
   "name": "python",
   "nbconvert_exporter": "python",
   "pygments_lexer": "ipython3",
   "version": "3.6.3"
  }
 },
 "nbformat": 4,
 "nbformat_minor": 2
}
